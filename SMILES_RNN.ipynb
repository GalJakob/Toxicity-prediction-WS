{
  "nbformat": 4,
  "nbformat_minor": 0,
  "metadata": {
    "colab": {
      "provenance": [],
      "gpuType": "T4",
      "include_colab_link": true
    },
    "kernelspec": {
      "name": "python3",
      "display_name": "Python 3"
    },
    "language_info": {
      "name": "python"
    },
    "accelerator": "GPU"
  },
  "cells": [
    {
      "cell_type": "markdown",
      "metadata": {
        "id": "view-in-github",
        "colab_type": "text"
      },
      "source": [
        "<a href=\"https://colab.research.google.com/github/GalJakob/Toxicity-prediction-WS/blob/main/SMILES_RNN.ipynb\" target=\"_parent\"><img src=\"https://colab.research.google.com/assets/colab-badge.svg\" alt=\"Open In Colab\"/></a>"
      ]
    },
    {
      "cell_type": "code",
      "execution_count": null,
      "metadata": {
        "colab": {
          "base_uri": "https://localhost:8080/",
          "height": 108
        },
        "id": "TZEcxbayZGzd",
        "outputId": "f5a7f94e-5686-4807-97f7-f794aa8717e1"
      },
      "outputs": [
        {
          "output_type": "display_data",
          "data": {
            "text/plain": [
              "<IPython.core.display.HTML object>"
            ],
            "text/html": [
              "\n",
              "     <input type=\"file\" id=\"files-9dd72b8a-1990-4eaa-90b5-58ada1a2b6e4\" name=\"files[]\" multiple disabled\n",
              "        style=\"border:none\" />\n",
              "     <output id=\"result-9dd72b8a-1990-4eaa-90b5-58ada1a2b6e4\">\n",
              "      Upload widget is only available when the cell has been executed in the\n",
              "      current browser session. Please rerun this cell to enable.\n",
              "      </output>\n",
              "      <script>// Copyright 2017 Google LLC\n",
              "//\n",
              "// Licensed under the Apache License, Version 2.0 (the \"License\");\n",
              "// you may not use this file except in compliance with the License.\n",
              "// You may obtain a copy of the License at\n",
              "//\n",
              "//      http://www.apache.org/licenses/LICENSE-2.0\n",
              "//\n",
              "// Unless required by applicable law or agreed to in writing, software\n",
              "// distributed under the License is distributed on an \"AS IS\" BASIS,\n",
              "// WITHOUT WARRANTIES OR CONDITIONS OF ANY KIND, either express or implied.\n",
              "// See the License for the specific language governing permissions and\n",
              "// limitations under the License.\n",
              "\n",
              "/**\n",
              " * @fileoverview Helpers for google.colab Python module.\n",
              " */\n",
              "(function(scope) {\n",
              "function span(text, styleAttributes = {}) {\n",
              "  const element = document.createElement('span');\n",
              "  element.textContent = text;\n",
              "  for (const key of Object.keys(styleAttributes)) {\n",
              "    element.style[key] = styleAttributes[key];\n",
              "  }\n",
              "  return element;\n",
              "}\n",
              "\n",
              "// Max number of bytes which will be uploaded at a time.\n",
              "const MAX_PAYLOAD_SIZE = 100 * 1024;\n",
              "\n",
              "function _uploadFiles(inputId, outputId) {\n",
              "  const steps = uploadFilesStep(inputId, outputId);\n",
              "  const outputElement = document.getElementById(outputId);\n",
              "  // Cache steps on the outputElement to make it available for the next call\n",
              "  // to uploadFilesContinue from Python.\n",
              "  outputElement.steps = steps;\n",
              "\n",
              "  return _uploadFilesContinue(outputId);\n",
              "}\n",
              "\n",
              "// This is roughly an async generator (not supported in the browser yet),\n",
              "// where there are multiple asynchronous steps and the Python side is going\n",
              "// to poll for completion of each step.\n",
              "// This uses a Promise to block the python side on completion of each step,\n",
              "// then passes the result of the previous step as the input to the next step.\n",
              "function _uploadFilesContinue(outputId) {\n",
              "  const outputElement = document.getElementById(outputId);\n",
              "  const steps = outputElement.steps;\n",
              "\n",
              "  const next = steps.next(outputElement.lastPromiseValue);\n",
              "  return Promise.resolve(next.value.promise).then((value) => {\n",
              "    // Cache the last promise value to make it available to the next\n",
              "    // step of the generator.\n",
              "    outputElement.lastPromiseValue = value;\n",
              "    return next.value.response;\n",
              "  });\n",
              "}\n",
              "\n",
              "/**\n",
              " * Generator function which is called between each async step of the upload\n",
              " * process.\n",
              " * @param {string} inputId Element ID of the input file picker element.\n",
              " * @param {string} outputId Element ID of the output display.\n",
              " * @return {!Iterable<!Object>} Iterable of next steps.\n",
              " */\n",
              "function* uploadFilesStep(inputId, outputId) {\n",
              "  const inputElement = document.getElementById(inputId);\n",
              "  inputElement.disabled = false;\n",
              "\n",
              "  const outputElement = document.getElementById(outputId);\n",
              "  outputElement.innerHTML = '';\n",
              "\n",
              "  const pickedPromise = new Promise((resolve) => {\n",
              "    inputElement.addEventListener('change', (e) => {\n",
              "      resolve(e.target.files);\n",
              "    });\n",
              "  });\n",
              "\n",
              "  const cancel = document.createElement('button');\n",
              "  inputElement.parentElement.appendChild(cancel);\n",
              "  cancel.textContent = 'Cancel upload';\n",
              "  const cancelPromise = new Promise((resolve) => {\n",
              "    cancel.onclick = () => {\n",
              "      resolve(null);\n",
              "    };\n",
              "  });\n",
              "\n",
              "  // Wait for the user to pick the files.\n",
              "  const files = yield {\n",
              "    promise: Promise.race([pickedPromise, cancelPromise]),\n",
              "    response: {\n",
              "      action: 'starting',\n",
              "    }\n",
              "  };\n",
              "\n",
              "  cancel.remove();\n",
              "\n",
              "  // Disable the input element since further picks are not allowed.\n",
              "  inputElement.disabled = true;\n",
              "\n",
              "  if (!files) {\n",
              "    return {\n",
              "      response: {\n",
              "        action: 'complete',\n",
              "      }\n",
              "    };\n",
              "  }\n",
              "\n",
              "  for (const file of files) {\n",
              "    const li = document.createElement('li');\n",
              "    li.append(span(file.name, {fontWeight: 'bold'}));\n",
              "    li.append(span(\n",
              "        `(${file.type || 'n/a'}) - ${file.size} bytes, ` +\n",
              "        `last modified: ${\n",
              "            file.lastModifiedDate ? file.lastModifiedDate.toLocaleDateString() :\n",
              "                                    'n/a'} - `));\n",
              "    const percent = span('0% done');\n",
              "    li.appendChild(percent);\n",
              "\n",
              "    outputElement.appendChild(li);\n",
              "\n",
              "    const fileDataPromise = new Promise((resolve) => {\n",
              "      const reader = new FileReader();\n",
              "      reader.onload = (e) => {\n",
              "        resolve(e.target.result);\n",
              "      };\n",
              "      reader.readAsArrayBuffer(file);\n",
              "    });\n",
              "    // Wait for the data to be ready.\n",
              "    let fileData = yield {\n",
              "      promise: fileDataPromise,\n",
              "      response: {\n",
              "        action: 'continue',\n",
              "      }\n",
              "    };\n",
              "\n",
              "    // Use a chunked sending to avoid message size limits. See b/62115660.\n",
              "    let position = 0;\n",
              "    do {\n",
              "      const length = Math.min(fileData.byteLength - position, MAX_PAYLOAD_SIZE);\n",
              "      const chunk = new Uint8Array(fileData, position, length);\n",
              "      position += length;\n",
              "\n",
              "      const base64 = btoa(String.fromCharCode.apply(null, chunk));\n",
              "      yield {\n",
              "        response: {\n",
              "          action: 'append',\n",
              "          file: file.name,\n",
              "          data: base64,\n",
              "        },\n",
              "      };\n",
              "\n",
              "      let percentDone = fileData.byteLength === 0 ?\n",
              "          100 :\n",
              "          Math.round((position / fileData.byteLength) * 100);\n",
              "      percent.textContent = `${percentDone}% done`;\n",
              "\n",
              "    } while (position < fileData.byteLength);\n",
              "  }\n",
              "\n",
              "  // All done.\n",
              "  yield {\n",
              "    response: {\n",
              "      action: 'complete',\n",
              "    }\n",
              "  };\n",
              "}\n",
              "\n",
              "scope.google = scope.google || {};\n",
              "scope.google.colab = scope.google.colab || {};\n",
              "scope.google.colab._files = {\n",
              "  _uploadFiles,\n",
              "  _uploadFilesContinue,\n",
              "};\n",
              "})(self);\n",
              "</script> "
            ]
          },
          "metadata": {}
        },
        {
          "output_type": "stream",
          "name": "stdout",
          "text": [
            "Saving tox21_test.csv to tox21_test.csv\n",
            "Saving tox21_train_aug.csv to tox21_train_aug.csv\n"
          ]
        }
      ],
      "source": [
        "import io\n",
        "from google.colab import files\n",
        "\n",
        "dataset_name = \"tox21\" # change to cardio / tox21 / clintox\n",
        "aug_type = 1 # 0 = non-augmented, 1 = only train aug\n",
        "\n",
        "\n",
        "if aug_type == 1:\n",
        "  ds_train_aug = dataset_name + \"_train_aug.csv\"\n",
        "  ds_test = dataset_name + \"_test.csv\"\n",
        "  data = files.upload()\n",
        "  data1 = io.BytesIO(data[ds_train_aug])\n",
        "  data2 = io.BytesIO(data[ds_test])\n",
        "\n",
        "elif aug_type == 0:\n",
        "  ds_train = dataset_name + \"_train.csv\"\n",
        "  ds_test = dataset_name + \"_test.csv\"\n",
        "  data = files.upload()\n",
        "  data1 = io.BytesIO(data[ds_train])\n",
        "  data2 = io.BytesIO(data[ds_test])"
      ]
    },
    {
      "cell_type": "code",
      "source": [
        "import pandas as pd\n",
        "import os\n",
        "import time\n",
        "train_data = pd.read_csv(data1)\n",
        "test_data = pd.read_csv(data2)\n",
        "\n",
        "print(train_data.shape)\n",
        "print(test_data.shape)"
      ],
      "metadata": {
        "id": "Za_M1cx_Zdik",
        "colab": {
          "base_uri": "https://localhost:8080/"
        },
        "outputId": "5cf11b8c-7e98-42dd-d215-60165ee8ff4c"
      },
      "execution_count": null,
      "outputs": [
        {
          "output_type": "stream",
          "name": "stdout",
          "text": [
            "(10487, 2)\n",
            "(1567, 2)\n"
          ]
        }
      ]
    },
    {
      "cell_type": "code",
      "source": [
        "!pip install rdkit"
      ],
      "metadata": {
        "id": "MHFIfJ3IZQRt",
        "colab": {
          "base_uri": "https://localhost:8080/"
        },
        "outputId": "43ee3925-5d70-4d3f-9f40-8ef73ce7211e"
      },
      "execution_count": null,
      "outputs": [
        {
          "output_type": "stream",
          "name": "stdout",
          "text": [
            "Collecting rdkit\n",
            "  Downloading rdkit-2023.3.3-cp310-cp310-manylinux_2_17_x86_64.manylinux2014_x86_64.whl (29.7 MB)\n",
            "\u001b[2K     \u001b[90m━━━━━━━━━━━━━━━━━━━━━━━━━━━━━━━━━━━━━━━━\u001b[0m \u001b[32m29.7/29.7 MB\u001b[0m \u001b[31m30.0 MB/s\u001b[0m eta \u001b[36m0:00:00\u001b[0m\n",
            "\u001b[?25hRequirement already satisfied: numpy in /usr/local/lib/python3.10/dist-packages (from rdkit) (1.23.5)\n",
            "Requirement already satisfied: Pillow in /usr/local/lib/python3.10/dist-packages (from rdkit) (9.4.0)\n",
            "Installing collected packages: rdkit\n",
            "Successfully installed rdkit-2023.3.3\n"
          ]
        }
      ]
    },
    {
      "cell_type": "code",
      "source": [
        "import numpy as np\n",
        "from sklearn.model_selection import train_test_split\n",
        "from sklearn.metrics import accuracy_score, precision_score, recall_score, roc_auc_score, average_precision_score\n",
        "from tensorflow import keras\n",
        "from tensorflow.keras import layers, callbacks\n",
        "from tensorflow.keras.preprocessing.text import Tokenizer\n",
        "from tensorflow.keras.preprocessing.sequence import pad_sequences\n",
        "import tensorflow as tf\n",
        "\n",
        "np.random.seed(42)\n",
        "tf.random.set_seed(42)"
      ],
      "metadata": {
        "id": "gCtmcQ20ZNiH"
      },
      "execution_count": null,
      "outputs": []
    },
    {
      "cell_type": "code",
      "source": [
        "# convert the smiles to sequences of tokens\n",
        "tokenizer = Tokenizer(char_level=True)\n",
        "tokenizer.fit_on_texts(train_data['smiles'])\n",
        "\n",
        "train_sequences = tokenizer.texts_to_sequences(train_data['smiles'])\n",
        "test_sequences = tokenizer.texts_to_sequences(test_data['smiles'])\n",
        "\n",
        "mx = -1\n",
        "for seq in train_sequences:\n",
        "  mx = max(len(seq),mx)\n",
        "\n",
        "print(\"mx=\", mx)\n",
        "\n",
        "# pad sequences to a fixed length\n",
        "if dataset_name == 'clintox':\n",
        "  max_sequence_length = 200\n",
        "elif dataset_name == 'tox21':\n",
        "  max_sequence_length = 150\n",
        "else:\n",
        "  max_sequence_length = 125\n",
        "\n",
        "train_sequences = pad_sequences(train_sequences, maxlen=max_sequence_length)\n",
        "test_sequences = pad_sequences(test_sequences, maxlen=max_sequence_length)\n",
        "\n",
        "\n",
        "print(train_sequences.shape)\n",
        "\n",
        "train_labels = train_data['label'].values\n",
        "test_labels = test_data['label'].values\n",
        "\n",
        "#train_sequences, val_sequences, train_labels, val_labels = train_test_split(train_sequences, train_labels, test_size=0.2, stratify=train_labels)"
      ],
      "metadata": {
        "id": "1A4l_wxaZNgO",
        "colab": {
          "base_uri": "https://localhost:8080/"
        },
        "outputId": "70044d16-4f1a-4a9b-b0cf-f96540c97c90"
      },
      "execution_count": null,
      "outputs": [
        {
          "output_type": "stream",
          "name": "stdout",
          "text": [
            "mx= 342\n",
            "(10487, 200)\n"
          ]
        }
      ]
    },
    {
      "cell_type": "code",
      "source": [
        "input_dim = len(tokenizer.word_index) + 1  # Add 1 for padding token\n",
        "embedding_dim = 64\n",
        "hidden_units = 256\n",
        "\n",
        "model = keras.Sequential([\n",
        "    layers.Embedding(input_dim, embedding_dim, input_length=max_sequence_length),\n",
        "    layers.Bidirectional(layers.GRU(hidden_units, return_sequences=True)),\n",
        "    layers.Bidirectional(layers.GRU(hidden_units, return_sequences=True)),\n",
        "    layers.Bidirectional(layers.GRU(hidden_units)),\n",
        "    layers.Dense(1, activation='sigmoid')\n",
        "])\n",
        "\n",
        "model.compile(optimizer=keras.optimizers.Adam(learning_rate=0.0005), loss='binary_crossentropy', metrics=['AUC'])"
      ],
      "metadata": {
        "id": "MjCeY6NVZNeO"
      },
      "execution_count": null,
      "outputs": []
    },
    {
      "cell_type": "code",
      "source": [
        "class TestSetEvaluationCallback(keras.callbacks.Callback):\n",
        "    def on_epoch_end(self, epoch, logs=None):\n",
        "        if (epoch + 1) % 10 == 0:\n",
        "            y_pred_probs = model.predict(test_sequences)\n",
        "            y_pred = np.round(y_pred_probs)\n",
        "\n",
        "            accuracy = accuracy_score(test_labels, y_pred)\n",
        "            precision = precision_score(test_labels, y_pred)\n",
        "            recall = recall_score(test_labels, y_pred)\n",
        "            roc_auc = roc_auc_score(test_labels, y_pred_probs)\n",
        "            pr_auc = average_precision_score(test_labels, y_pred_probs)\n",
        "\n",
        "            print(f\"Epoch {epoch+1} - Test Set Metrics:\")\n",
        "            print(\"Accuracy:\", accuracy)\n",
        "            print(\"Precision:\", precision)\n",
        "            print(\"Recall:\", recall)\n",
        "            print(\"AUC-ROC:\", roc_auc)\n",
        "            print(\"AUC-PRC:\", pr_auc)\n",
        "\n",
        "test_evaluation_callback = TestSetEvaluationCallback()"
      ],
      "metadata": {
        "id": "wuna0wh-m0wD"
      },
      "execution_count": null,
      "outputs": []
    },
    {
      "cell_type": "code",
      "source": [
        "# train\n",
        "batch_size = 32\n",
        "epochs = 40\n",
        "\n",
        "model.fit(train_sequences, train_labels, batch_size=batch_size, epochs=epochs, callbacks=[test_evaluation_callback])\n"
      ],
      "metadata": {
        "colab": {
          "base_uri": "https://localhost:8080/"
        },
        "id": "kpcIvUuhZNae",
        "outputId": "2d0f7f73-462c-4970-8e7d-c686cea56c3c"
      },
      "execution_count": null,
      "outputs": [
        {
          "output_type": "stream",
          "name": "stdout",
          "text": [
            "Epoch 1/40\n",
            "328/328 [==============================] - 36s 78ms/step - loss: 0.5777 - auc: 0.7500\n",
            "Epoch 2/40\n",
            "328/328 [==============================] - 24s 75ms/step - loss: 0.5054 - auc: 0.8237\n",
            "Epoch 3/40\n",
            "328/328 [==============================] - 24s 73ms/step - loss: 0.4128 - auc: 0.8899\n",
            "Epoch 4/40\n",
            "328/328 [==============================] - 24s 73ms/step - loss: 0.3000 - auc: 0.9388\n",
            "Epoch 5/40\n",
            "328/328 [==============================] - 24s 73ms/step - loss: 0.2715 - auc: 0.9485\n",
            "Epoch 6/40\n",
            "328/328 [==============================] - 24s 75ms/step - loss: 0.2493 - auc: 0.9556\n",
            "Epoch 7/40\n",
            "328/328 [==============================] - 24s 73ms/step - loss: 0.2368 - auc: 0.9599\n",
            "Epoch 8/40\n",
            "328/328 [==============================] - 24s 73ms/step - loss: 0.2268 - auc: 0.9630\n",
            "Epoch 9/40\n",
            "328/328 [==============================] - 24s 74ms/step - loss: 0.4024 - auc: 0.8923\n",
            "Epoch 10/40\n",
            "49/49 [==============================] - 3s 28ms/step\n",
            "Epoch 10 - Test Set Metrics:\n",
            "Accuracy: 0.8519463943841736\n",
            "Precision: 0.11731843575418995\n",
            "Recall: 0.22105263157894736\n",
            "AUC-ROC: 0.7174270594965675\n",
            "AUC-PRC: 0.15211496064154134\n",
            "328/328 [==============================] - 27s 82ms/step - loss: 0.4190 - auc: 0.8857\n",
            "Epoch 11/40\n",
            "328/328 [==============================] - 24s 74ms/step - loss: 0.3409 - auc: 0.9235\n",
            "Epoch 12/40\n",
            "328/328 [==============================] - 24s 75ms/step - loss: 0.2960 - auc: 0.9404\n",
            "Epoch 13/40\n",
            "180/328 [===============>..............] - ETA: 10s - loss: 0.2833 - auc: 0.9454"
          ]
        }
      ]
    },
    {
      "cell_type": "code",
      "source": [
        "# evaluation\n",
        "\n",
        "y_pred_probs = model.predict(test_sequences)\n",
        "y_pred = np.round(y_pred_probs)\n",
        "\n",
        "accuracy = accuracy_score(test_labels, y_pred)\n",
        "precision = precision_score(test_labels, y_pred)\n",
        "recall = recall_score(test_labels, y_pred)\n",
        "roc_auc = roc_auc_score(test_labels, y_pred_probs)\n",
        "pr_auc = average_precision_score(test_labels, y_pred_probs)\n",
        "\n",
        "print(\"Accuracy:\", accuracy)\n",
        "print(\"Precision:\", precision)\n",
        "print(\"Recall:\", recall)\n",
        "print(\"AUC-ROC:\", roc_auc)\n",
        "print(\"AUC-PRC:\", pr_auc)\n",
        "\n",
        "\n",
        "TP = 0\n",
        "FP = 0\n",
        "TN = 0\n",
        "FN = 0\n",
        "\n",
        "for i in range(len(y_pred)):\n",
        "    if test_labels[i]==y_pred[i]==1:\n",
        "        TP += 1\n",
        "    if y_pred[i]==1 and test_labels[i]!=y_pred[i]:\n",
        "        FP += 1\n",
        "    if test_labels[i]==y_pred[i]==0:\n",
        "        TN += 1\n",
        "    if y_pred[i]==0 and test_labels[i]!=y_pred[i]:\n",
        "        FN += 1\n",
        "\n",
        "print(TP, FN)\n",
        "print(FP, TN)"
      ],
      "metadata": {
        "colab": {
          "base_uri": "https://localhost:8080/"
        },
        "id": "whWMOpRDZNYW",
        "outputId": "31b3c523-630e-4e4a-a409-1263f71cfc95"
      },
      "execution_count": null,
      "outputs": [
        {
          "output_type": "stream",
          "name": "stdout",
          "text": [
            "49/49 [==============================] - 3s 30ms/step\n",
            "Accuracy: 0.9221442246330568\n",
            "Precision: 0.3246753246753247\n",
            "Recall: 0.2631578947368421\n",
            "AUC-ROC: 0.7717534324942792\n",
            "AUC-PRC: 0.25706789035624544\n",
            "25 70\n",
            "52 1420\n"
          ]
        }
      ]
    },
    {
      "cell_type": "code",
      "source": [],
      "metadata": {
        "id": "IqCBj58GZNSu"
      },
      "execution_count": null,
      "outputs": []
    }
  ]
}